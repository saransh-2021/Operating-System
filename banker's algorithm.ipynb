{
 "cells": [
  {
   "cell_type": "code",
   "execution_count": 1,
   "metadata": {},
   "outputs": [],
   "source": [
    "import numpy as np"
   ]
  },
  {
   "cell_type": "code",
   "execution_count": 2,
   "metadata": {},
   "outputs": [],
   "source": [
    "def calculateNeed(need, maxm, allot, P, R):\n",
    "    for i in range(P):\n",
    "        for j in range(R):\n",
    "            need[i][j] = maxm[i][j] - allot[i][j]"
   ]
  },
  {
   "cell_type": "code",
   "execution_count": 3,
   "metadata": {},
   "outputs": [],
   "source": [
    "# Function to find the system is in safe state or not\n",
    "def isSafe(processes, avail, maxm, allot):\n",
    "    P = len(processes)  # Number of processes\n",
    "    R = len(avail)  # Number of resources\n",
    "    need = np.zeros((P, R)) # Initializing Need matrix\n",
    "    calculateNeed(need, maxm, allot, P, R)\n",
    "    # Initialize arrays to track the completion of processes, the safe sequence, and the work done\n",
    "    finish = [0] * P\n",
    "    safeSeq = [0] * P\n",
    "    work = [0] * R\n",
    "\n",
    "    # Initialize the work array with the available resources\n",
    "    for i in range(R):\n",
    "        work[i] = avail[i]\n",
    "\n",
    "    # Initialize a counter for the number of completed processes\n",
    "    count = 0\n",
    "\n",
    "    # While not all processes have been completed\n",
    "    while (count < P):\n",
    "        # Assume no process can be completed in this round\n",
    "        found = False\n",
    "\n",
    "        # Iterate over all processes\n",
    "        for p in range(P):\n",
    "            # If this process has not been completed\n",
    "            if (finish[p] == 0):\n",
    "                # Check if all resources needed by this process are available\n",
    "                for j in range(R):\n",
    "                    if (need[p][j] > work[j]):\n",
    "                        break\n",
    "\n",
    "                # If all resources are available\n",
    "                if (j == R - 1):\n",
    "                    # Allocate resources to this process\n",
    "                    for k in range(R):\n",
    "                        work[k] += allot[p][k]\n",
    "\n",
    "                    # Add this process to the safe sequence\n",
    "                    safeSeq[count] = p\n",
    "\n",
    "                    # Increment the count of completed processes\n",
    "                    count += 1\n",
    "\n",
    "                    # Mark this process as completed\n",
    "                    finish[p] = 1\n",
    "\n",
    "                    # A process has been completed in this round\n",
    "                    found = True\n",
    "\n",
    "        # If no process could be completed in this round, the system is not in a safe state\n",
    "        if (found == False):\n",
    "            print(\"System is not in safe state\")\n",
    "            return False\n",
    "\n",
    "    # If all processes have been completed, the system is in a safe state\n",
    "    print(\"System is in safe state.\",\n",
    "        \"\\nSafe sequence is: \", end=\" \")\n",
    "    print(*safeSeq)\n",
    "\n",
    "    return True"
   ]
  },
  {
   "cell_type": "code",
   "execution_count": 4,
   "metadata": {},
   "outputs": [
    {
     "name": "stdout",
     "output_type": "stream",
     "text": [
      "System is in safe state. \n",
      "Safe sequence is:  1 3 4 0 2\n"
     ]
    }
   ],
   "source": [
    "# Driver code\n",
    "if __name__ == \"__main__\":\n",
    "    processes = [0, 1, 2, 3, 4]\n",
    "    avail = [3, 3, 2]\n",
    "    maxm = [[7, 5, 3], [3, 2, 2], [9, 0, 2], [2, 2, 2], [4, 3, 3]]\n",
    "    allot = [[0, 1, 0], [2, 0, 0], [3, 0, 2], [2, 1, 1], [0, 0, 2]]\n",
    "    isSafe(processes, avail, maxm, allot)"
   ]
  }
 ],
 "metadata": {
  "kernelspec": {
   "display_name": "Python 3",
   "language": "python",
   "name": "python3"
  },
  "language_info": {
   "codemirror_mode": {
    "name": "ipython",
    "version": 3
   },
   "file_extension": ".py",
   "mimetype": "text/x-python",
   "name": "python",
   "nbconvert_exporter": "python",
   "pygments_lexer": "ipython3",
   "version": "3.11.5"
  }
 },
 "nbformat": 4,
 "nbformat_minor": 2
}
