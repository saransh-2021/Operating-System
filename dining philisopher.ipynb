{
 "cells": [
  {
   "cell_type": "code",
   "execution_count": 1,
   "metadata": {},
   "outputs": [],
   "source": [
    "import threading\n",
    "import time\n",
    "import random"
   ]
  },
  {
   "cell_type": "code",
   "execution_count": 2,
   "metadata": {},
   "outputs": [],
   "source": [
    "class Philosopher(threading.Thread):\n",
    "    running = True\n",
    "\n",
    "    def __init__(self, name, left_fork, right_fork):\n",
    "        threading.Thread.__init__(self)\n",
    "        self.name = name\n",
    "        self.left_fork = left_fork\n",
    "        self.right_fork = right_fork\n",
    "\n",
    "    def run(self):\n",
    "        while(self.running):\n",
    "            time.sleep(random.uniform(1, 10))\n",
    "            print(f'{self.name} is hungry.')\n",
    "            self.dine()\n",
    "\n",
    "    def dine(self):\n",
    "        fork1, fork2 = self.left_fork, self.right_fork\n",
    "\n",
    "        while self.running:\n",
    "            fork1.acquire(True)\n",
    "            locked = fork2.acquire(False)\n",
    "            if locked: break\n",
    "            fork1.release()\n",
    "            print(f'{self.name} swaps forks.')\n",
    "            fork1, fork2 = fork2, fork1\n",
    "        else:\n",
    "            return\n",
    "\n",
    "        self.dining()\n",
    "        fork2.release()\n",
    "        fork1.release()\n",
    "\n",
    "    def dining(self):\n",
    "        print(f'{self.name} starts eating.')\n",
    "        time.sleep(random.uniform(1, 10))\n",
    "        print(f'{self.name} finishes eating and leaves to think.')"
   ]
  },
  {
   "cell_type": "code",
   "execution_count": 3,
   "metadata": {},
   "outputs": [
    {
     "name": "stdout",
     "output_type": "stream",
     "text": [
      "Philosopher 4 is hungry.\n",
      "Philosopher 4 starts eating.\n",
      "Philosopher 1 is hungry.\n",
      "Philosopher 1 starts eating.\n",
      "Philosopher 0 is hungry.\n",
      "Philosopher 3 is hungry.\n",
      "Philosopher 3 swaps forks.\n",
      "Philosopher 2 is hungry.\n",
      "Philosopher 4 finishes eating and leaves to think.\n",
      "Philosopher 3 starts eating.\n",
      "Philosopher 0 swaps forks.\n"
     ]
    },
    {
     "ename": "KeyboardInterrupt",
     "evalue": "",
     "output_type": "error",
     "traceback": [
      "\u001b[1;31m---------------------------------------------------------------------------\u001b[0m",
      "\u001b[1;31mKeyboardInterrupt\u001b[0m                         Traceback (most recent call last)",
      "\u001b[1;32md:\\Saransh Programming\\VS Code\\Python\\Operating System\\dining philisopher.ipynb Cell 3\u001b[0m line \u001b[0;36m1\n\u001b[0;32m     <a href='vscode-notebook-cell:/d%3A/Saransh%20Programming/VS%20Code/Python/Operating%20System/dining%20philisopher.ipynb#W3sZmlsZQ%3D%3D?line=10'>11</a>\u001b[0m timer\u001b[39m.\u001b[39mstart()\n\u001b[0;32m     <a href='vscode-notebook-cell:/d%3A/Saransh%20Programming/VS%20Code/Python/Operating%20System/dining%20philisopher.ipynb#W3sZmlsZQ%3D%3D?line=12'>13</a>\u001b[0m \u001b[39mfor\u001b[39;00m p \u001b[39min\u001b[39;00m philosophers:\n\u001b[1;32m---> <a href='vscode-notebook-cell:/d%3A/Saransh%20Programming/VS%20Code/Python/Operating%20System/dining%20philisopher.ipynb#W3sZmlsZQ%3D%3D?line=13'>14</a>\u001b[0m     p\u001b[39m.\u001b[39;49mjoin()\n\u001b[0;32m     <a href='vscode-notebook-cell:/d%3A/Saransh%20Programming/VS%20Code/Python/Operating%20System/dining%20philisopher.ipynb#W3sZmlsZQ%3D%3D?line=15'>16</a>\u001b[0m \u001b[39mprint\u001b[39m(\u001b[39m\"\u001b[39m\u001b[39mNow we\u001b[39m\u001b[39m'\u001b[39m\u001b[39mre finishing.\u001b[39m\u001b[39m\"\u001b[39m)\n",
      "File \u001b[1;32mc:\\Users\\saran\\AppData\\Local\\Programs\\Python\\Python311\\Lib\\threading.py:1112\u001b[0m, in \u001b[0;36mThread.join\u001b[1;34m(self, timeout)\u001b[0m\n\u001b[0;32m   1109\u001b[0m     \u001b[39mraise\u001b[39;00m \u001b[39mRuntimeError\u001b[39;00m(\u001b[39m\"\u001b[39m\u001b[39mcannot join current thread\u001b[39m\u001b[39m\"\u001b[39m)\n\u001b[0;32m   1111\u001b[0m \u001b[39mif\u001b[39;00m timeout \u001b[39mis\u001b[39;00m \u001b[39mNone\u001b[39;00m:\n\u001b[1;32m-> 1112\u001b[0m     \u001b[39mself\u001b[39;49m\u001b[39m.\u001b[39;49m_wait_for_tstate_lock()\n\u001b[0;32m   1113\u001b[0m \u001b[39melse\u001b[39;00m:\n\u001b[0;32m   1114\u001b[0m     \u001b[39m# the behavior of a negative timeout isn't documented, but\u001b[39;00m\n\u001b[0;32m   1115\u001b[0m     \u001b[39m# historically .join(timeout=x) for x<0 has acted as if timeout=0\u001b[39;00m\n\u001b[0;32m   1116\u001b[0m     \u001b[39mself\u001b[39m\u001b[39m.\u001b[39m_wait_for_tstate_lock(timeout\u001b[39m=\u001b[39m\u001b[39mmax\u001b[39m(timeout, \u001b[39m0\u001b[39m))\n",
      "File \u001b[1;32mc:\\Users\\saran\\AppData\\Local\\Programs\\Python\\Python311\\Lib\\threading.py:1132\u001b[0m, in \u001b[0;36mThread._wait_for_tstate_lock\u001b[1;34m(self, block, timeout)\u001b[0m\n\u001b[0;32m   1129\u001b[0m     \u001b[39mreturn\u001b[39;00m\n\u001b[0;32m   1131\u001b[0m \u001b[39mtry\u001b[39;00m:\n\u001b[1;32m-> 1132\u001b[0m     \u001b[39mif\u001b[39;00m lock\u001b[39m.\u001b[39;49macquire(block, timeout):\n\u001b[0;32m   1133\u001b[0m         lock\u001b[39m.\u001b[39mrelease()\n\u001b[0;32m   1134\u001b[0m         \u001b[39mself\u001b[39m\u001b[39m.\u001b[39m_stop()\n",
      "\u001b[1;31mKeyboardInterrupt\u001b[0m: "
     ]
    },
    {
     "name": "stdout",
     "output_type": "stream",
     "text": [
      "Philosopher 1 finishes eating and leaves to think.\n",
      "Philosopher 2 swaps forks.\n",
      "Philosopher 3 finishes eating and leaves to think.\n"
     ]
    }
   ],
   "source": [
    "if __name__ == '__main__':\n",
    "    forks = [threading.Lock() for n in range(5)]\n",
    "    philosophers = [Philosopher(f'Philosopher {n}', forks[n%5], forks[(n+1)%5]) for n in range(5)]\n",
    "    \n",
    "    Philosopher.running = True\n",
    "    for p in philosophers:\n",
    "        p.start()\n",
    "\n",
    "    # Set a timer to stop the philosophers after 10 seconds\n",
    "    timer = threading.Timer(10, lambda: setattr(Philosopher, 'running', False))\n",
    "    timer.start()\n",
    "\n",
    "    for p in philosophers:\n",
    "        p.join()\n",
    "\n",
    "    print(\"Now we're finishing.\")"
   ]
  }
 ],
 "metadata": {
  "kernelspec": {
   "display_name": "Python 3",
   "language": "python",
   "name": "python3"
  },
  "language_info": {
   "codemirror_mode": {
    "name": "ipython",
    "version": 3
   },
   "file_extension": ".py",
   "mimetype": "text/x-python",
   "name": "python",
   "nbconvert_exporter": "python",
   "pygments_lexer": "ipython3",
   "version": "3.11.5"
  }
 },
 "nbformat": 4,
 "nbformat_minor": 2
}
