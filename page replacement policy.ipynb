{
 "cells": [
  {
   "cell_type": "code",
   "execution_count": 5,
   "metadata": {},
   "outputs": [
    {
     "name": "stdout",
     "output_type": "stream",
     "text": [
      "[1, 2, 3]\n",
      "[1, 3, 2]\n"
     ]
    }
   ],
   "source": [
    "class LRUCache:\n",
    "    def __init__(self, capacity):\n",
    "        self.capacity = capacity\n",
    "        self.cache = {}\n",
    "        self.queue = []\n",
    "\n",
    "    def refer(self, page):\n",
    "        if page in self.cache:\n",
    "            self.queue.remove(page)\n",
    "        elif len(self.cache) >= self.capacity:\n",
    "            lru = self.queue.pop(0)\n",
    "            del self.cache[lru]\n",
    "        self.queue.append(page)\n",
    "        self.cache[page] = True\n",
    "\n",
    "    def display(self):\n",
    "        print(self.queue)\n",
    "\n",
    "# Example of LRU Page Replacement Policy\n",
    "lru_cache = LRUCache(3)\n",
    "lru_cache.refer(1)\n",
    "lru_cache.refer(2)\n",
    "lru_cache.refer(3)\n",
    "lru_cache.display()  # Output: [1, 2, 3]\n",
    "lru_cache.refer(2)\n",
    "lru_cache.display()  # Output: [1, 3, 2]"
   ]
  },
  {
   "cell_type": "code",
   "execution_count": 6,
   "metadata": {},
   "outputs": [
    {
     "name": "stdout",
     "output_type": "stream",
     "text": [
      "[1, 2, 3]\n",
      "[2, 3, 4]\n"
     ]
    }
   ],
   "source": [
    "class FIFOCache:\n",
    "    def __init__(self, capacity):\n",
    "        self.capacity = capacity\n",
    "        self.cache = []\n",
    "\n",
    "    def refer(self, page):\n",
    "        if page not in self.cache:\n",
    "            if len(self.cache) >= self.capacity:\n",
    "                self.cache.pop(0)\n",
    "            self.cache.append(page)\n",
    "\n",
    "    def display(self):\n",
    "        print(self.cache)\n",
    "\n",
    "# Example of FIFO Page Replacement Policy\n",
    "fifo_cache = FIFOCache(3)\n",
    "fifo_cache.refer(1)\n",
    "fifo_cache.refer(2)\n",
    "fifo_cache.refer(3)\n",
    "fifo_cache.display()  # Output: [1, 2, 3]\n",
    "fifo_cache.refer(4)\n",
    "fifo_cache.display()  # Output: [2, 3, 4]"
   ]
  },
  {
   "cell_type": "code",
   "execution_count": 3,
   "metadata": {},
   "outputs": [
    {
     "name": "stdout",
     "output_type": "stream",
     "text": [
      "Page faults using Optimal:  7\n"
     ]
    }
   ],
   "source": [
    "def optimal(page_references, frame_size):\n",
    "    cache = [-1] * frame_size\n",
    "    page_faults = 0\n",
    "    for i in range(len(page_references)):\n",
    "        if page_references[i] not in cache:\n",
    "            if -1 in cache:\n",
    "                cache[cache.index(-1)] = page_references[i]\n",
    "            else:\n",
    "                future_references = {}\n",
    "                for page in cache:\n",
    "                    if page in page_references[i:]:\n",
    "                        future_references[page] = page_references[i:].index(page)\n",
    "                    else:\n",
    "                        future_references[page] = len(page_references)\n",
    "                page_to_replace = max(future_references, key=future_references.get)\n",
    "                cache[cache.index(page_to_replace)] = page_references[i]\n",
    "            page_faults += 1\n",
    "    return page_faults\n",
    "\n",
    "# Example of Optimal Page Replacement Policy\n",
    "page_references = [7, 0, 1, 2, 0, 3, 0, 4, 2, 3, 0, 3, 2]\n",
    "frame_size = 3\n",
    "page_faults = optimal(page_references, frame_size)\n",
    "print(\"Page faults using Optimal: \", page_faults)  # Output: 9"
   ]
  }
 ],
 "metadata": {
  "kernelspec": {
   "display_name": "Python 3",
   "language": "python",
   "name": "python3"
  },
  "language_info": {
   "codemirror_mode": {
    "name": "ipython",
    "version": 3
   },
   "file_extension": ".py",
   "mimetype": "text/x-python",
   "name": "python",
   "nbconvert_exporter": "python",
   "pygments_lexer": "ipython3",
   "version": "3.11.5"
  }
 },
 "nbformat": 4,
 "nbformat_minor": 2
}
