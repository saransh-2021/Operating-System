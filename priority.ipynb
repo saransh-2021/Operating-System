{
 "cells": [
  {
   "cell_type": "code",
   "execution_count": 1,
   "metadata": {},
   "outputs": [],
   "source": [
    "import heapq as hq\n",
    "import pandas as pd\n",
    "\n",
    "import warnings\n",
    "warnings.filterwarnings('ignore')"
   ]
  },
  {
   "cell_type": "code",
   "execution_count": 2,
   "metadata": {},
   "outputs": [],
   "source": [
    "# test case 1\n",
    "processes = ['P1','P2','P3']\n",
    "arrival_time = [1,0,1]\n",
    "burst_time = [10,5,8]\n",
    "waiting_time = [0,18,10]\n",
    "turnaround_time = [10,23,18]\n",
    "complete_time = [11,23,19]\n",
    "priority_num = [1,3,2]"
   ]
  },
  {
   "cell_type": "code",
   "execution_count": 14,
   "metadata": {},
   "outputs": [],
   "source": [
    "# test case 2\n",
    "processes = ['P1','P2','P3','P4']\n",
    "arrival_time = [0,2,4,5]\n",
    "burst_time = [3,2,1,4]\n",
    "waiting_time = [3,0,0,1]\n",
    "turnaround_time = [6,2,1,5]\n",
    "complete_time = [6,4,5,10]\n",
    "priority_num = [3,1,2,4]"
   ]
  },
  {
   "cell_type": "code",
   "execution_count": 15,
   "metadata": {},
   "outputs": [],
   "source": [
    "expected_answer = pd.DataFrame({'Process':processes, 'Arrival Time':arrival_time, 'Burst Time':burst_time, \n",
    "                               'Waiting Time':waiting_time, 'Turn Around Time':turnaround_time, 'Completion Time':complete_time, \n",
    "                               'Priority Number':priority_num})\n",
    "expected_answer.sort_values(by=['Arrival Time', 'Burst Time'], ignore_index=True, inplace=True)"
   ]
  },
  {
   "cell_type": "code",
   "execution_count": 16,
   "metadata": {},
   "outputs": [],
   "source": [
    "def generate_gantt_chart(timeline):\n",
    "    end_at_prev = 0\n",
    "    for i in timeline:\n",
    "        start_at = i[0]\n",
    "        end_at = i[1] + start_at\n",
    "        \n",
    "        if start_at != end_at_prev:\n",
    "            print(f\"{end_at_prev}-{start_at} : Idle | \", end=\"\")\n",
    "    \n",
    "        print(f\"{start_at}-{end_at} : Process {i[2]} | \", end=\"\")\n",
    "        \n",
    "        end_at_prev = end_at"
   ]
  },
  {
   "cell_type": "code",
   "execution_count": 17,
   "metadata": {},
   "outputs": [],
   "source": [
    "# generate a sorted timeline for the srtf algorithm\n",
    "\n",
    "def sort_process_priority(processes, arrival_time, burst_time, priority_num):\n",
    "    end_time = sum(burst_time)\n",
    "    current_time = 0\n",
    "    remaining_time = burst_time.copy()\n",
    "    processes_list = [ list(tup) for tup in list(zip(arrival_time, priority_num, burst_time, processes, remaining_time))]\n",
    "    sorted_process_list = []\n",
    "    hq.heapify(processes_list)\n",
    "    \n",
    "    while current_time < end_time or processes_list:\n",
    "        available_processes_list = [process for process in processes_list if process[0] <= current_time]\n",
    "        \n",
    "        if available_processes_list:\n",
    "            process = min(available_processes_list, key=lambda x: x[1] )\n",
    "            processes_list.remove(process)\n",
    "            print(\"Process selected\", process)\n",
    "            \n",
    "            process[4] = process[4] - 1\n",
    "            \n",
    "            if process[4] > 0:\n",
    "                hq.heappush(processes_list, process)\n",
    "\n",
    "            \n",
    "            if len(sorted_process_list) == 0 or sorted_process_list[-1][2] != process[3]:\n",
    "                # sorted_process_list.append( [ current_time, current_time + 1, process[2] ] ) # pocess start time, process end time, process name\n",
    "                sorted_process_list.append( [ current_time, 1, process[3] ] )  # process start time, process duration, process name\n",
    "            else:\n",
    "                sorted_process_list[-1][1] += 1\n",
    "            \n",
    "            current_time +=1\n",
    "            \n",
    "        else:\n",
    "            process = hq.nsmallest( 1, processes_list, key=lambda x: x[0] )[0]\n",
    "            print(\"Process selected\", process)\n",
    "            \n",
    "            process[4] = process[4] - 1\n",
    "            \n",
    "            if process[4] > 0:\n",
    "                hq.heappush(processes_list, process)\n",
    "            \n",
    "            current_time = process[0]\n",
    "            \n",
    "            # sorted_process_list.append( [ current_time, current_time, process[2] ] )\n",
    "            # sorted_process_list.append( [ current_time, current_time + 1, process[2] ] ) # pocess start time, process end time, process name\n",
    "            \n",
    "            sorted_process_list.append( [ current_time, 0, process[3] ] )  # process start time, process duration, process name\n",
    "    \n",
    "    print(\"\\nSorted Processed List\", sorted_process_list)\n",
    "    return sorted_process_list"
   ]
  },
  {
   "cell_type": "code",
   "execution_count": 18,
   "metadata": {},
   "outputs": [],
   "source": [
    "# writing a program for shortest job first scheduling algorithm with arrival times to return\n",
    "# waiting time and turn around time for each process and average waiting time and average turn around time\n",
    "# for all processes\n",
    "\n",
    "\n",
    "def priority(process, arrival_time, burst_time, priority_num):    \n",
    "    # for preemptive algorithms\n",
    "    \n",
    "    timeline = sort_process_priority(processes, arrival_time, burst_time, priority_num)\n",
    "    processes_list = [ list(tup) for tup in list(zip( process, arrival_time, burst_time, priority_num )) ]\n",
    "    df = pd.DataFrame(processes_list, columns=['Process', 'Arrival Time', 'Burst Time', \"Priority Number\"])\n",
    "    timeline_df = pd.DataFrame(timeline, columns=['Start Time', 'Duration', 'Process'])\n",
    "    \n",
    "    list_of_processes = df['Process'].tolist()\n",
    "    for i in list_of_processes:\n",
    "        temp = timeline_df.loc[timeline_df['Process'] == i, 'Start Time'] + timeline_df.loc[timeline_df['Process'] == i, 'Duration']\n",
    "        df.loc[df['Process'] == i, 'Completion Time'] = temp.iloc[-1]\n",
    "\n",
    "    df['Turn Around Time'] = df['Completion Time'] - df['Arrival Time']\n",
    "    df['Waiting Time'] = df['Turn Around Time'] - df['Burst Time']    \n",
    "    \n",
    "    df = df[['Process', 'Arrival Time', 'Burst Time', 'Waiting Time', 'Turn Around Time', 'Completion Time',\"Priority Number\"]]\n",
    "        \n",
    "    print(\"\\nProcess Details:\")\n",
    "    for i in range(len(df)):\n",
    "        print(f\"Process: {df['Process'].iloc[i]}, Wait Time: {df['Waiting Time'].iloc[i]}, Turn Around Time: {df['Turn Around Time'].iloc[i]}, Completion Time: {df['Completion Time'].iloc[i]}\")\n",
    "        \n",
    "    print(f\"\\nAverage Waiting Time: {df['Waiting Time'].mean():.2f} \")\n",
    "    print(f\"Average Turn Around Time:  {df['Turn Around Time'].mean():.2f} \")\n",
    "    return df.reset_index(drop=True) , timeline"
   ]
  },
  {
   "cell_type": "code",
   "execution_count": 19,
   "metadata": {},
   "outputs": [
    {
     "name": "stdout",
     "output_type": "stream",
     "text": [
      "Process selected [0, 3, 3, 'P1', 3]\n",
      "Process selected [0, 3, 3, 'P1', 2]\n",
      "Process selected [2, 1, 2, 'P2', 2]\n",
      "Process selected [2, 1, 2, 'P2', 1]\n",
      "Process selected [4, 2, 1, 'P3', 1]\n",
      "Process selected [0, 3, 3, 'P1', 1]\n",
      "Process selected [5, 4, 4, 'P4', 4]\n",
      "Process selected [5, 4, 4, 'P4', 3]\n",
      "Process selected [5, 4, 4, 'P4', 2]\n",
      "Process selected [5, 4, 4, 'P4', 1]\n",
      "\n",
      "Sorted Processed List [[0, 2, 'P1'], [2, 2, 'P2'], [4, 1, 'P3'], [5, 1, 'P1'], [6, 4, 'P4']]\n",
      "\n",
      "Process Details:\n",
      "Process: P1, Wait Time: 3.0, Turn Around Time: 6.0, Completion Time: 6.0\n",
      "Process: P2, Wait Time: 0.0, Turn Around Time: 2.0, Completion Time: 4.0\n",
      "Process: P3, Wait Time: 0.0, Turn Around Time: 1.0, Completion Time: 5.0\n",
      "Process: P4, Wait Time: 1.0, Turn Around Time: 5.0, Completion Time: 10.0\n",
      "\n",
      "Average Waiting Time: 1.00 \n",
      "Average Turn Around Time:  3.50 \n"
     ]
    }
   ],
   "source": [
    "actual_answer, timeline = priority(processes, arrival_time, burst_time, priority_num)"
   ]
  },
  {
   "cell_type": "code",
   "execution_count": 20,
   "metadata": {},
   "outputs": [
    {
     "name": "stdout",
     "output_type": "stream",
     "text": [
      "0-2 : Process P1 | 2-4 : Process P2 | 4-5 : Process P3 | 5-6 : Process P1 | 6-10 : Process P4 | "
     ]
    }
   ],
   "source": [
    "generate_gantt_chart(timeline)"
   ]
  },
  {
   "cell_type": "code",
   "execution_count": 21,
   "metadata": {},
   "outputs": [
    {
     "data": {
      "text/html": [
       "<div>\n",
       "<style scoped>\n",
       "    .dataframe tbody tr th:only-of-type {\n",
       "        vertical-align: middle;\n",
       "    }\n",
       "\n",
       "    .dataframe tbody tr th {\n",
       "        vertical-align: top;\n",
       "    }\n",
       "\n",
       "    .dataframe thead th {\n",
       "        text-align: right;\n",
       "    }\n",
       "</style>\n",
       "<table border=\"1\" class=\"dataframe\">\n",
       "  <thead>\n",
       "    <tr style=\"text-align: right;\">\n",
       "      <th></th>\n",
       "      <th>Process</th>\n",
       "      <th>Arrival Time</th>\n",
       "      <th>Burst Time</th>\n",
       "      <th>Waiting Time</th>\n",
       "      <th>Turn Around Time</th>\n",
       "      <th>Completion Time</th>\n",
       "      <th>Priority Number</th>\n",
       "    </tr>\n",
       "  </thead>\n",
       "  <tbody>\n",
       "    <tr>\n",
       "      <th>0</th>\n",
       "      <td>P1</td>\n",
       "      <td>0</td>\n",
       "      <td>3</td>\n",
       "      <td>3.0</td>\n",
       "      <td>6.0</td>\n",
       "      <td>6.0</td>\n",
       "      <td>3</td>\n",
       "    </tr>\n",
       "    <tr>\n",
       "      <th>1</th>\n",
       "      <td>P2</td>\n",
       "      <td>2</td>\n",
       "      <td>2</td>\n",
       "      <td>0.0</td>\n",
       "      <td>2.0</td>\n",
       "      <td>4.0</td>\n",
       "      <td>1</td>\n",
       "    </tr>\n",
       "    <tr>\n",
       "      <th>2</th>\n",
       "      <td>P3</td>\n",
       "      <td>4</td>\n",
       "      <td>1</td>\n",
       "      <td>0.0</td>\n",
       "      <td>1.0</td>\n",
       "      <td>5.0</td>\n",
       "      <td>2</td>\n",
       "    </tr>\n",
       "    <tr>\n",
       "      <th>3</th>\n",
       "      <td>P4</td>\n",
       "      <td>5</td>\n",
       "      <td>4</td>\n",
       "      <td>1.0</td>\n",
       "      <td>5.0</td>\n",
       "      <td>10.0</td>\n",
       "      <td>4</td>\n",
       "    </tr>\n",
       "  </tbody>\n",
       "</table>\n",
       "</div>"
      ],
      "text/plain": [
       "  Process  Arrival Time  Burst Time  Waiting Time  Turn Around Time  \\\n",
       "0      P1             0           3           3.0               6.0   \n",
       "1      P2             2           2           0.0               2.0   \n",
       "2      P3             4           1           0.0               1.0   \n",
       "3      P4             5           4           1.0               5.0   \n",
       "\n",
       "   Completion Time  Priority Number  \n",
       "0              6.0                3  \n",
       "1              4.0                1  \n",
       "2              5.0                2  \n",
       "3             10.0                4  "
      ]
     },
     "execution_count": 21,
     "metadata": {},
     "output_type": "execute_result"
    }
   ],
   "source": [
    "actual_answer "
   ]
  },
  {
   "cell_type": "code",
   "execution_count": 22,
   "metadata": {},
   "outputs": [
    {
     "data": {
      "text/html": [
       "<div>\n",
       "<style scoped>\n",
       "    .dataframe tbody tr th:only-of-type {\n",
       "        vertical-align: middle;\n",
       "    }\n",
       "\n",
       "    .dataframe tbody tr th {\n",
       "        vertical-align: top;\n",
       "    }\n",
       "\n",
       "    .dataframe thead th {\n",
       "        text-align: right;\n",
       "    }\n",
       "</style>\n",
       "<table border=\"1\" class=\"dataframe\">\n",
       "  <thead>\n",
       "    <tr style=\"text-align: right;\">\n",
       "      <th></th>\n",
       "      <th>Process</th>\n",
       "      <th>Arrival Time</th>\n",
       "      <th>Burst Time</th>\n",
       "      <th>Waiting Time</th>\n",
       "      <th>Turn Around Time</th>\n",
       "      <th>Completion Time</th>\n",
       "      <th>Priority Number</th>\n",
       "    </tr>\n",
       "  </thead>\n",
       "  <tbody>\n",
       "    <tr>\n",
       "      <th>0</th>\n",
       "      <td>P1</td>\n",
       "      <td>0</td>\n",
       "      <td>3</td>\n",
       "      <td>3</td>\n",
       "      <td>6</td>\n",
       "      <td>6</td>\n",
       "      <td>3</td>\n",
       "    </tr>\n",
       "    <tr>\n",
       "      <th>1</th>\n",
       "      <td>P2</td>\n",
       "      <td>2</td>\n",
       "      <td>2</td>\n",
       "      <td>0</td>\n",
       "      <td>2</td>\n",
       "      <td>4</td>\n",
       "      <td>1</td>\n",
       "    </tr>\n",
       "    <tr>\n",
       "      <th>2</th>\n",
       "      <td>P3</td>\n",
       "      <td>4</td>\n",
       "      <td>1</td>\n",
       "      <td>0</td>\n",
       "      <td>1</td>\n",
       "      <td>5</td>\n",
       "      <td>2</td>\n",
       "    </tr>\n",
       "    <tr>\n",
       "      <th>3</th>\n",
       "      <td>P4</td>\n",
       "      <td>5</td>\n",
       "      <td>4</td>\n",
       "      <td>1</td>\n",
       "      <td>5</td>\n",
       "      <td>10</td>\n",
       "      <td>4</td>\n",
       "    </tr>\n",
       "  </tbody>\n",
       "</table>\n",
       "</div>"
      ],
      "text/plain": [
       "  Process  Arrival Time  Burst Time  Waiting Time  Turn Around Time  \\\n",
       "0      P1             0           3             3                 6   \n",
       "1      P2             2           2             0                 2   \n",
       "2      P3             4           1             0                 1   \n",
       "3      P4             5           4             1                 5   \n",
       "\n",
       "   Completion Time  Priority Number  \n",
       "0                6                3  \n",
       "1                4                1  \n",
       "2                5                2  \n",
       "3               10                4  "
      ]
     },
     "execution_count": 22,
     "metadata": {},
     "output_type": "execute_result"
    }
   ],
   "source": [
    "expected_answer"
   ]
  },
  {
   "cell_type": "code",
   "execution_count": 23,
   "metadata": {},
   "outputs": [],
   "source": [
    "check_actual_answer = actual_answer.sort_values(by=['Arrival Time', 'Burst Time'], ignore_index=True)"
   ]
  },
  {
   "cell_type": "code",
   "execution_count": 24,
   "metadata": {},
   "outputs": [
    {
     "name": "stdout",
     "output_type": "stream",
     "text": [
      "Your answer is correct\n"
     ]
    },
    {
     "data": {
      "text/html": [
       "<div>\n",
       "<style scoped>\n",
       "    .dataframe tbody tr th:only-of-type {\n",
       "        vertical-align: middle;\n",
       "    }\n",
       "\n",
       "    .dataframe tbody tr th {\n",
       "        vertical-align: top;\n",
       "    }\n",
       "\n",
       "    .dataframe thead tr th {\n",
       "        text-align: left;\n",
       "    }\n",
       "</style>\n",
       "<table border=\"1\" class=\"dataframe\">\n",
       "  <thead>\n",
       "  </thead>\n",
       "  <tbody>\n",
       "  </tbody>\n",
       "</table>\n",
       "</div>"
      ],
      "text/plain": [
       "Empty DataFrame\n",
       "Columns: []\n",
       "Index: []"
      ]
     },
     "execution_count": 24,
     "metadata": {},
     "output_type": "execute_result"
    }
   ],
   "source": [
    "diff = check_actual_answer.compare(expected_answer)\n",
    "\n",
    "if diff.empty:\n",
    "    print(\"Your answer is correct\")\n",
    "else:\n",
    "    print(\"Your answer is incorrect\")\n",
    "    \n",
    "diff"
   ]
  },
  {
   "cell_type": "code",
   "execution_count": 25,
   "metadata": {},
   "outputs": [],
   "source": [
    "# # insert this line in srtf() function before uncommenting this cell and running it\n",
    "# # df = df.astype({'Completion Time': 'int64', 'Turn Around Time': 'int64', 'Waiting Time': 'int64'})\n",
    "\n",
    "# from pandas.testing import assert_frame_equal\n",
    "# assert_frame_equal(check_actual_answer, expected_answer)"
   ]
  }
 ],
 "metadata": {
  "kernelspec": {
   "display_name": "Python 3",
   "language": "python",
   "name": "python3"
  },
  "language_info": {
   "codemirror_mode": {
    "name": "ipython",
    "version": 3
   },
   "file_extension": ".py",
   "mimetype": "text/x-python",
   "name": "python",
   "nbconvert_exporter": "python",
   "pygments_lexer": "ipython3",
   "version": "3.11.5"
  },
  "orig_nbformat": 4
 },
 "nbformat": 4,
 "nbformat_minor": 2
}
