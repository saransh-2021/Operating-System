{
 "cells": [
  {
   "cell_type": "code",
   "execution_count": 1,
   "metadata": {},
   "outputs": [],
   "source": [
    "import pandas as pd\n",
    "import heapq as hq\n",
    "\n",
    "import warnings\n",
    "warnings.filterwarnings('ignore')"
   ]
  },
  {
   "cell_type": "code",
   "execution_count": null,
   "metadata": {},
   "outputs": [],
   "source": [
    "# Test case 1\n",
    "processes = ['P0', 'P1', 'P2','P3']\n",
    "arrival_time = [0,0,0,0]\n",
    "burst_time = [4,2,1,3]\n",
    "waiting_time = [6,1,0,3]\n",
    "turnaround_time = [10,3,1,6]\n",
    "complete_time = [10,3,1,6]"
   ]
  },
  {
   "cell_type": "code",
   "execution_count": 13,
   "metadata": {},
   "outputs": [],
   "source": [
    "# test case 2\n",
    "processes = ['P0', 'P1', 'P2','P3','P4']\n",
    "arrival_time = [0,1,2,3,7]\n",
    "burst_time = [3,2,1,1,1]\n",
    "waiting_time = [0,4,1,1,0]\n",
    "turnaround_time = [3,6,2,2,1]\n",
    "complete_time = [3,7,4,5,8]"
   ]
  },
  {
   "cell_type": "code",
   "execution_count": 24,
   "metadata": {},
   "outputs": [],
   "source": [
    "# test case 3\n",
    "processes = ['A', 'B', 'C','D','E']\n",
    "arrival_time = [0,0,2,3,1]\n",
    "burst_time = [3,2,1,4,3]\n",
    "waiting_time = [3,0,0,6,5]\n",
    "turnaround_time = [6,2,1,10,8]\n",
    "complete_time = [6,2,3,13,9]"
   ]
  },
  {
   "cell_type": "code",
   "execution_count": null,
   "metadata": {},
   "outputs": [],
   "source": [
    "# test case 4\n",
    "processes = ['P1','P2','P3','P4','P5','P6']\n",
    "arrival_time = [0,25,30,60,100,105]\n",
    "burst_time = [20,25,25,15,10,10]\n",
    "waiting_time = [0,0,20,15,0,5]\n",
    "turnaround_time = [20,25,45,30,10,15]\n",
    "complete_time = [20,50,75,90,110,120]"
   ]
  },
  {
   "cell_type": "code",
   "execution_count": 25,
   "metadata": {},
   "outputs": [],
   "source": [
    "expected_answer = pd.DataFrame({'Process':processes, 'Arrival Time':arrival_time, 'Burst Time':burst_time, \n",
    "                               'Waiting Time':waiting_time, 'Turn Around Time':turnaround_time, 'Completion Time':complete_time})\n",
    "expected_answer.sort_values(by=['Arrival Time', 'Burst Time'], ignore_index=True, inplace=True)"
   ]
  },
  {
   "cell_type": "code",
   "execution_count": 26,
   "metadata": {},
   "outputs": [],
   "source": [
    "def sort_process_sjf(processes, arrival_time, burst_time):\n",
    "    current_time = 0\n",
    "    processes_list = list(zip(arrival_time, burst_time, processes))\n",
    "    sorted_process_list = []\n",
    "    hq.heapify(processes_list)\n",
    "    \n",
    "    while processes_list:\n",
    "        available_processes_list = [process for process in processes_list if process[0] <= current_time]\n",
    "        if available_processes_list:\n",
    "            process = min(available_processes_list,key=lambda x: x[1])\n",
    "            processes_list.remove(process)\n",
    "            print(\"Process selected\",process)\n",
    "            current_time += process[1]\n",
    "        else:\n",
    "            process = hq.heappop(processes_list)\n",
    "            current_time = process[0] + process[1]\n",
    "        \n",
    "        sorted_process_list.append(process)\n",
    "            \n",
    "    print(\"\\nSorted Processed List\",sorted_process_list)\n",
    "    return sorted_process_list"
   ]
  },
  {
   "cell_type": "code",
   "execution_count": 27,
   "metadata": {},
   "outputs": [],
   "source": [
    "# writing a program for shortest job first scheduling algorithm with arrival times to return\n",
    "# waiting time and turn around time for each process and average waiting time and average turn around time\n",
    "# for all processes\n",
    "\n",
    "\n",
    "def sjf(process, arrival_time, burst_time):\n",
    "    # for non-preemptive\n",
    "    sorted_processes=sort_process_sjf(process, arrival_time, burst_time)\n",
    "    df = pd.DataFrame(sorted_processes, columns=['Arrival Time', 'Burst Time', 'Process'])\n",
    "    \n",
    "    n = len(df)\n",
    "    \n",
    "    df['Waiting Time'] = 0\n",
    "    df['Turn Around Time'] = 0\n",
    "    df['Completion Time'] = 0\n",
    "    \n",
    "    df['Turn Around Time'].iloc[0] = df['Burst Time'].iloc[0] + df['Waiting Time'].iloc[0]\n",
    "    df['Completion Time'].iloc[0] = df['Burst Time'].iloc[0] + df['Arrival Time'].iloc[0]\n",
    "    \n",
    "    for i in range(1, n):\n",
    "        if df['Arrival Time'].iloc[i] > df['Completion Time'].iloc[i-1]:\n",
    "            df['Completion Time'].iloc[i] = df['Arrival Time'].iloc[i] + df['Burst Time'].iloc[i]\n",
    "        else:\n",
    "            df['Completion Time'].iloc[i] = df['Burst Time'].iloc[i] + df['Completion Time'].iloc[i-1]\n",
    "            \n",
    "        df['Waiting Time'].iloc[i] = max(0, df['Completion Time'].iloc[i-1] - df['Arrival Time'].iloc[i])\n",
    "        df['Turn Around Time'].iloc[i] = df['Burst Time'].iloc[i] + df['Waiting Time'].iloc[i]\n",
    "    \n",
    "        \n",
    "    df = df[['Process', 'Arrival Time', 'Burst Time', 'Waiting Time', 'Turn Around Time', 'Completion Time']]\n",
    "        \n",
    "    print(\"\\nProcess Details:\")\n",
    "    for i in range(n):\n",
    "        print(f\"Process: {df['Process'].iloc[i]}, Wait Time: {df['Waiting Time'].iloc[i]}, Turn Around Time: {df['Turn Around Time'].iloc[i]}, Completion Time: {df['Completion Time'].iloc[i]}\")\n",
    "        \n",
    "    print(f\"\\nAverage Waiting Time: {df['Waiting Time'].mean():.2f} \")\n",
    "    print(f\"Average Turn Around Time:  {df['Turn Around Time'].mean():.2f} \")\n",
    "    return df.reset_index(drop=True)"
   ]
  },
  {
   "cell_type": "code",
   "execution_count": 28,
   "metadata": {},
   "outputs": [
    {
     "name": "stdout",
     "output_type": "stream",
     "text": [
      "Process selected (0, 2, 'B')\n",
      "Process selected (2, 1, 'C')\n",
      "Process selected (0, 3, 'A')\n",
      "Process selected (1, 3, 'E')\n",
      "Process selected (3, 4, 'D')\n",
      "\n",
      "Sorted Processed List [(0, 2, 'B'), (2, 1, 'C'), (0, 3, 'A'), (1, 3, 'E'), (3, 4, 'D')]\n",
      "\n",
      "Process Details:\n",
      "Process: B, Wait Time: 0, Turn Around Time: 2, Completion Time: 2\n",
      "Process: C, Wait Time: 0, Turn Around Time: 1, Completion Time: 3\n",
      "Process: A, Wait Time: 3, Turn Around Time: 6, Completion Time: 6\n",
      "Process: E, Wait Time: 5, Turn Around Time: 8, Completion Time: 9\n",
      "Process: D, Wait Time: 6, Turn Around Time: 10, Completion Time: 13\n",
      "\n",
      "Average Waiting Time: 2.80 \n",
      "Average Turn Around Time:  5.40 \n"
     ]
    }
   ],
   "source": [
    "actual_answer = sjf(processes, arrival_time, burst_time)"
   ]
  },
  {
   "cell_type": "code",
   "execution_count": 29,
   "metadata": {},
   "outputs": [
    {
     "name": "stdout",
     "output_type": "stream",
     "text": [
      "0-2 : Process B | 2-3 : Process C | 3-6 : Process A | 6-9 : Process E | 9-13 : Process D | "
     ]
    }
   ],
   "source": [
    "timeline = actual_answer.to_dict(index=False, orient='split')\n",
    "end_at_prev = 0\n",
    "for i in timeline['data']:\n",
    "    start_at = i[1]+i[3]\n",
    "    end_at = i[5]\n",
    "    \n",
    "    if start_at != end_at_prev:\n",
    "        print(f\"{end_at_prev}-{start_at} : Idle | \", end=\"\")\n",
    "  \n",
    "    print(f\"{start_at}-{end_at} : Process {i[0]} | \", end=\"\")\n",
    "    \n",
    "    end_at_prev = end_at"
   ]
  },
  {
   "cell_type": "code",
   "execution_count": 35,
   "metadata": {},
   "outputs": [
    {
     "data": {
      "text/html": [
       "<div>\n",
       "<style scoped>\n",
       "    .dataframe tbody tr th:only-of-type {\n",
       "        vertical-align: middle;\n",
       "    }\n",
       "\n",
       "    .dataframe tbody tr th {\n",
       "        vertical-align: top;\n",
       "    }\n",
       "\n",
       "    .dataframe thead th {\n",
       "        text-align: right;\n",
       "    }\n",
       "</style>\n",
       "<table border=\"1\" class=\"dataframe\">\n",
       "  <thead>\n",
       "    <tr style=\"text-align: right;\">\n",
       "      <th></th>\n",
       "      <th>Process</th>\n",
       "      <th>Arrival Time</th>\n",
       "      <th>Burst Time</th>\n",
       "      <th>Waiting Time</th>\n",
       "      <th>Turn Around Time</th>\n",
       "      <th>Completion Time</th>\n",
       "    </tr>\n",
       "  </thead>\n",
       "  <tbody>\n",
       "    <tr>\n",
       "      <th>0</th>\n",
       "      <td>B</td>\n",
       "      <td>0</td>\n",
       "      <td>2</td>\n",
       "      <td>0</td>\n",
       "      <td>2</td>\n",
       "      <td>2</td>\n",
       "    </tr>\n",
       "    <tr>\n",
       "      <th>1</th>\n",
       "      <td>C</td>\n",
       "      <td>2</td>\n",
       "      <td>1</td>\n",
       "      <td>0</td>\n",
       "      <td>1</td>\n",
       "      <td>3</td>\n",
       "    </tr>\n",
       "    <tr>\n",
       "      <th>2</th>\n",
       "      <td>A</td>\n",
       "      <td>0</td>\n",
       "      <td>3</td>\n",
       "      <td>3</td>\n",
       "      <td>6</td>\n",
       "      <td>6</td>\n",
       "    </tr>\n",
       "    <tr>\n",
       "      <th>3</th>\n",
       "      <td>E</td>\n",
       "      <td>1</td>\n",
       "      <td>3</td>\n",
       "      <td>5</td>\n",
       "      <td>8</td>\n",
       "      <td>9</td>\n",
       "    </tr>\n",
       "    <tr>\n",
       "      <th>4</th>\n",
       "      <td>D</td>\n",
       "      <td>3</td>\n",
       "      <td>4</td>\n",
       "      <td>6</td>\n",
       "      <td>10</td>\n",
       "      <td>13</td>\n",
       "    </tr>\n",
       "  </tbody>\n",
       "</table>\n",
       "</div>"
      ],
      "text/plain": [
       "  Process  Arrival Time  Burst Time  Waiting Time  Turn Around Time  \\\n",
       "0       B             0           2             0                 2   \n",
       "1       C             2           1             0                 1   \n",
       "2       A             0           3             3                 6   \n",
       "3       E             1           3             5                 8   \n",
       "4       D             3           4             6                10   \n",
       "\n",
       "   Completion Time  \n",
       "0                2  \n",
       "1                3  \n",
       "2                6  \n",
       "3                9  \n",
       "4               13  "
      ]
     },
     "execution_count": 35,
     "metadata": {},
     "output_type": "execute_result"
    }
   ],
   "source": [
    "actual_answer"
   ]
  },
  {
   "cell_type": "code",
   "execution_count": 30,
   "metadata": {},
   "outputs": [],
   "source": [
    "def generate_gantt_chart(df):\n",
    "    # generate gantt chart via matplotlib\n",
    "    import matplotlib.pyplot as plt\n",
    "    \n",
    "    fig, ax = plt.subplots(figsize=(10,5))\n",
    "    ax.set_ylim(0, 1)\n",
    "    ax.set_xlim(0, df['Completion Time'].iloc[-1])\n",
    "    ax.set_yticks([0.5])\n",
    "    ax.set_yticklabels([''])\n",
    "    ax.set_xticks(df['Completion Time'])\n",
    "    ax.set_xticklabels(df['Process'])\n",
    "    ax.grid(True)\n",
    "    ax.set_xlabel('Process')\n",
    "    ax.set_ylabel('Completion Time')\n",
    "    ax.set_title('Gantt Chart')\n",
    "    \n",
    "    for i in range(len(df)):\n",
    "        ax.broken_barh([(df['Arrival Time'].iloc[i], df['Burst Time'].iloc[i])], (0.2, 0.6),  facecolors='tab:blue')\n",
    "        ax.text(df['Completion Time'].iloc[i]-0.5, 0.5, str(df['Completion Time'].iloc[i]), color='black', fontweight='bold')\n",
    "        \n",
    "    plt.show()"
   ]
  },
  {
   "cell_type": "code",
   "execution_count": 31,
   "metadata": {},
   "outputs": [
    {
     "data": {
      "image/png": "[encoded data removed]",
      "text/plain": [
       "<Figure size 1000x500 with 1 Axes>"
      ]
     },
     "metadata": {},
     "output_type": "display_data"
    }
   ],
   "source": [
    "generate_gantt_chart(actual_answer)"
   ]
  },
  {
   "cell_type": "code",
   "execution_count": 32,
   "metadata": {},
   "outputs": [],
   "source": [
    "check_actual_answer = actual_answer.sort_values(by=['Arrival Time', 'Burst Time'], ignore_index=True)"
   ]
  },
  {
   "cell_type": "code",
   "execution_count": 33,
   "metadata": {},
   "outputs": [
    {
     "name": "stdout",
     "output_type": "stream",
     "text": [
      "Your answer is correct\n"
     ]
    },
    {
     "data": {
      "text/html": [
       "<div>\n",
       "<style scoped>\n",
       "    .dataframe tbody tr th:only-of-type {\n",
       "        vertical-align: middle;\n",
       "    }\n",
       "\n",
       "    .dataframe tbody tr th {\n",
       "        vertical-align: top;\n",
       "    }\n",
       "\n",
       "    .dataframe thead tr th {\n",
       "        text-align: left;\n",
       "    }\n",
       "</style>\n",
       "<table border=\"1\" class=\"dataframe\">\n",
       "  <thead>\n",
       "  </thead>\n",
       "  <tbody>\n",
       "  </tbody>\n",
       "</table>\n",
       "</div>"
      ],
      "text/plain": [
       "Empty DataFrame\n",
       "Columns: []\n",
       "Index: []"
      ]
     },
     "execution_count": 33,
     "metadata": {},
     "output_type": "execute_result"
    }
   ],
   "source": [
    "diff = check_actual_answer.compare(expected_answer)\n",
    "\n",
    "if diff.empty:\n",
    "    print(\"Your answer is correct\")\n",
    "else:\n",
    "    print(\"Your answer is incorrect\")\n",
    "    \n",
    "diff    "
   ]
  },
  {
   "cell_type": "code",
   "execution_count": 34,
   "metadata": {},
   "outputs": [],
   "source": [
    "from pandas.testing import assert_frame_equal\n",
    "assert_frame_equal(check_actual_answer, expected_answer)"
   ]
  }
 ],
 "metadata": {
  "kernelspec": {
   "display_name": "Python 3",
   "language": "python",
   "name": "python3"
  },
  "language_info": {
   "codemirror_mode": {
    "name": "ipython",
    "version": 3
   },
   "file_extension": ".py",
   "mimetype": "text/x-python",
   "name": "python",
   "nbconvert_exporter": "python",
   "pygments_lexer": "ipython3",
   "version": "3.11.5"
  },
  "orig_nbformat": 4
 },
 "nbformat": 4,
 "nbformat_minor": 2
}
