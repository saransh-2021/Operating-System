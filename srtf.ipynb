{
 "cells": [
  {
   "cell_type": "code",
   "execution_count": 1,
   "metadata": {},
   "outputs": [],
   "source": [
    "import heapq as hq\n",
    "import pandas as pd\n",
    "\n",
    "import warnings\n",
    "warnings.filterwarnings('ignore')"
   ]
  },
  {
   "cell_type": "code",
   "execution_count": 2,
   "metadata": {},
   "outputs": [],
   "source": [
    "# Test case 1\n",
    "processes = ['P0', 'P1', 'P2','P3']\n",
    "arrival_time = [0,0,0,0]\n",
    "burst_time = [4,2,1,3]\n",
    "waiting_time = [6,1,0,3]\n",
    "turnaround_time = [10,3,1,6]\n",
    "complete_time = [10,3,1,6]"
   ]
  },
  {
   "cell_type": "code",
   "execution_count": 3,
   "metadata": {},
   "outputs": [],
   "source": [
    "# test case 2\n",
    "processes = ['P0', 'P1', 'P2','P3','P4']\n",
    "arrival_time = [0,1,2,3,7]\n",
    "burst_time = [3,2,1,1,1]\n",
    "waiting_time = [0,4,1,1,0]\n",
    "turnaround_time = [3,6,2,2,1]\n",
    "complete_time = [3,7,4,5,8]"
   ]
  },
  {
   "cell_type": "code",
   "execution_count": 4,
   "metadata": {},
   "outputs": [],
   "source": [
    "# test case 3\n",
    "processes = ['A', 'B', 'C','D','E']\n",
    "arrival_time = [0,0,2,3,1]\n",
    "burst_time = [3,2,1,4,3]\n",
    "waiting_time = [3,0,0,6,5]\n",
    "turnaround_time = [6,2,1,10,8]\n",
    "complete_time = [6,2,3,13,9]"
   ]
  },
  {
   "cell_type": "code",
   "execution_count": 5,
   "metadata": {},
   "outputs": [],
   "source": [
    "# test case 4\n",
    "processes = ['P1','P2','P3','P4','P5','P6']\n",
    "arrival_time = [0,25,30,60,100,105]\n",
    "burst_time = [20,25,25,15,10,10]\n",
    "waiting_time = [0,0,20,15,0,5]\n",
    "turnaround_time = [20,25,45,30,10,15]\n",
    "complete_time = [20,50,75,90,110,120]"
   ]
  },
  {
   "cell_type": "code",
   "execution_count": 6,
   "metadata": {},
   "outputs": [],
   "source": [
    "# test case 5\n",
    "processes = ['P1','P2','P3','P4','P5','P6']\n",
    "arrival_time = [0,1,2,3,4,5]\n",
    "burst_time = [8,4,2,1,3,2]\n",
    "waiting_time = [12,5,0,1,6,0]\n",
    "turnaround_time = [20,9,2,2,9,2]\n",
    "complete_time = [20,10,4,5,13,7]"
   ]
  },
  {
   "cell_type": "code",
   "execution_count": 7,
   "metadata": {},
   "outputs": [],
   "source": [
    "expected_answer = pd.DataFrame({'Process':processes, 'Arrival Time':arrival_time, 'Burst Time':burst_time, \n",
    "                               'Waiting Time':waiting_time, 'Turn Around Time':turnaround_time, 'Completion Time':complete_time})\n",
    "expected_answer.sort_values(by=['Arrival Time', 'Burst Time'], ignore_index=True, inplace=True)"
   ]
  },
  {
   "cell_type": "code",
   "execution_count": 8,
   "metadata": {},
   "outputs": [],
   "source": [
    "# generate a sorted timeline for the srtf algorithm\n",
    "\n",
    "def sort_process_srtf(processes, arrival_time, burst_time):\n",
    "    end_time = sum(burst_time)\n",
    "    current_time = 0\n",
    "    rem_time = burst_time.copy()\n",
    "    processes_list = [ list(tup) for tup in list(zip(arrival_time, burst_time, processes, rem_time)) ]\n",
    "    sorted_process_list = []\n",
    "    hq.heapify(processes_list)\n",
    "    \n",
    "    while current_time < end_time or processes_list:\n",
    "        available_processes_list = [process for process in processes_list if process[0] <= current_time]\n",
    "        \n",
    "        if available_processes_list:\n",
    "            process = min(available_processes_list, key=lambda x: x[3])\n",
    "            processes_list.remove(process)\n",
    "            print(\"Process selected\", process)\n",
    "            \n",
    "            process[3] = process[3] - 1\n",
    "            \n",
    "            if process[3] > 0:\n",
    "                hq.heappush(processes_list, process)\n",
    "\n",
    "            \n",
    "            if len(sorted_process_list) == 0 or sorted_process_list[-1][2] != process[2]:\n",
    "                # sorted_process_list.append( [ current_time, current_time + 1, process[2] ] ) # pocess start time, process end time, process name\n",
    "                sorted_process_list.append( [ current_time, 1, process[2] ] )  # process start time, process duration, process name\n",
    "            else:\n",
    "                sorted_process_list[-1][1] += 1\n",
    "            \n",
    "            current_time +=1\n",
    "            \n",
    "        else:\n",
    "            process = hq.nsmallest( 1, processes_list, key=lambda x: x[0] )[0]\n",
    "            print(\"Process selected\", process)\n",
    "            \n",
    "            process[3] = process[3] - 1\n",
    "            \n",
    "            if process[3] > 0:\n",
    "                hq.heappush(processes_list, process)\n",
    "            \n",
    "            current_time = process[0]\n",
    "            \n",
    "            # sorted_process_list.append( [ current_time, current_time, process[2] ] )\n",
    "            # sorted_process_list.append( [ current_time, current_time + 1, process[2] ] ) # pocess start time, process end time, process name\n",
    "            \n",
    "            sorted_process_list.append( [ current_time, 0, process[2] ] )  # process start time, process duration, process name\n",
    "    \n",
    "    print(\"\\nSorted Processed List\", sorted_process_list)\n",
    "    return sorted_process_list"
   ]
  },
  {
   "cell_type": "code",
   "execution_count": 9,
   "metadata": {},
   "outputs": [],
   "source": [
    "def generate_gantt_chart(timeline):\n",
    "    end_at_prev = 0\n",
    "    for i in timeline:\n",
    "        start_at = i[0]\n",
    "        end_at = i[1] + start_at\n",
    "        \n",
    "        if start_at != end_at_prev:\n",
    "            print(f\"{end_at_prev}-{start_at} : Idle | \", end=\"\")\n",
    "    \n",
    "        print(f\"{start_at}-{end_at} : Process {i[2]} | \", end=\"\")\n",
    "        \n",
    "        end_at_prev = end_at"
   ]
  },
  {
   "cell_type": "code",
   "execution_count": 10,
   "metadata": {},
   "outputs": [],
   "source": [
    "# writing a program for shortest job first scheduling algorithm with arrival times to return\n",
    "# waiting time and turn around time for each process and average waiting time and average turn around time\n",
    "# for all processes\n",
    "\n",
    "\n",
    "def srtf(process, arrival_time, burst_time):    \n",
    "    # for preemptive algorithms\n",
    "    \n",
    "    timeline = sort_process_srtf(processes, arrival_time, burst_time)\n",
    "    processes_list = [ list(tup) for tup in list(zip( process, arrival_time, burst_time )) ]\n",
    "    df = pd.DataFrame(processes_list, columns=['Process', 'Arrival Time', 'Burst Time' ])\n",
    "    timeline_df = pd.DataFrame(timeline, columns=['Start Time', 'Duration', 'Process'])\n",
    "    \n",
    "    list_of_processes = df['Process'].tolist()\n",
    "    for i in list_of_processes:\n",
    "        temp = timeline_df.loc[timeline_df['Process'] == i, 'Start Time'] + timeline_df.loc[timeline_df['Process'] == i, 'Duration']\n",
    "        df.loc[df['Process'] == i, 'Completion Time'] = temp.iloc[-1]\n",
    "\n",
    "    df['Turn Around Time'] = df['Completion Time'] - df['Arrival Time']\n",
    "    df['Waiting Time'] = df['Turn Around Time'] - df['Burst Time']    \n",
    "    \n",
    "    df = df[['Process', 'Arrival Time', 'Burst Time', 'Waiting Time', 'Turn Around Time', 'Completion Time']]\n",
    "        \n",
    "    print(\"\\nProcess Details:\")\n",
    "    for i in range(len(df)):\n",
    "        print(f\"Process: {df['Process'].iloc[i]}, Wait Time: {df['Waiting Time'].iloc[i]}, Turn Around Time: {df['Turn Around Time'].iloc[i]}, Completion Time: {df['Completion Time'].iloc[i]}\")\n",
    "        \n",
    "    print(f\"\\nAverage Waiting Time: {df['Waiting Time'].mean():.2f} \")\n",
    "    print(f\"Average Turn Around Time:  {df['Turn Around Time'].mean():.2f} \")\n",
    "    return df.reset_index(drop=True) , timeline"
   ]
  },
  {
   "cell_type": "code",
   "execution_count": 11,
   "metadata": {},
   "outputs": [
    {
     "name": "stdout",
     "output_type": "stream",
     "text": [
      "Process selected [0, 8, 'P1', 8]\n",
      "Process selected [1, 4, 'P2', 4]\n",
      "Process selected [2, 2, 'P3', 2]\n",
      "Process selected [2, 2, 'P3', 1]\n",
      "Process selected [3, 1, 'P4', 1]\n",
      "Process selected [5, 2, 'P6', 2]\n",
      "Process selected [5, 2, 'P6', 1]\n",
      "Process selected [1, 4, 'P2', 3]\n",
      "Process selected [1, 4, 'P2', 2]\n",
      "Process selected [1, 4, 'P2', 1]\n",
      "Process selected [4, 3, 'P5', 3]\n",
      "Process selected [4, 3, 'P5', 2]\n",
      "Process selected [4, 3, 'P5', 1]\n",
      "Process selected [0, 8, 'P1', 7]\n",
      "Process selected [0, 8, 'P1', 6]\n",
      "Process selected [0, 8, 'P1', 5]\n",
      "Process selected [0, 8, 'P1', 4]\n",
      "Process selected [0, 8, 'P1', 3]\n",
      "Process selected [0, 8, 'P1', 2]\n",
      "Process selected [0, 8, 'P1', 1]\n",
      "\n",
      "Sorted Processed List [[0, 1, 'P1'], [1, 1, 'P2'], [2, 2, 'P3'], [4, 1, 'P4'], [5, 2, 'P6'], [7, 3, 'P2'], [10, 3, 'P5'], [13, 7, 'P1']]\n",
      "\n",
      "Process Details:\n",
      "Process: P1, Wait Time: 12.0, Turn Around Time: 20.0, Completion Time: 20.0\n",
      "Process: P2, Wait Time: 5.0, Turn Around Time: 9.0, Completion Time: 10.0\n",
      "Process: P3, Wait Time: 0.0, Turn Around Time: 2.0, Completion Time: 4.0\n",
      "Process: P4, Wait Time: 1.0, Turn Around Time: 2.0, Completion Time: 5.0\n",
      "Process: P5, Wait Time: 6.0, Turn Around Time: 9.0, Completion Time: 13.0\n",
      "Process: P6, Wait Time: 0.0, Turn Around Time: 2.0, Completion Time: 7.0\n",
      "\n",
      "Average Waiting Time: 4.00 \n",
      "Average Turn Around Time:  7.33 \n"
     ]
    }
   ],
   "source": [
    "actual_answer, timeline = srtf(processes, arrival_time, burst_time)"
   ]
  },
  {
   "cell_type": "code",
   "execution_count": 12,
   "metadata": {},
   "outputs": [
    {
     "name": "stdout",
     "output_type": "stream",
     "text": [
      "0-1 : Process P1 | 1-2 : Process P2 | 2-4 : Process P3 | 4-5 : Process P4 | 5-7 : Process P6 | 7-10 : Process P2 | 10-13 : Process P5 | 13-20 : Process P1 | "
     ]
    }
   ],
   "source": [
    "generate_gantt_chart(timeline)"
   ]
  },
  {
   "cell_type": "code",
   "execution_count": 17,
   "metadata": {},
   "outputs": [
    {
     "data": {
      "text/html": [
       "<div>\n",
       "<style scoped>\n",
       "    .dataframe tbody tr th:only-of-type {\n",
       "        vertical-align: middle;\n",
       "    }\n",
       "\n",
       "    .dataframe tbody tr th {\n",
       "        vertical-align: top;\n",
       "    }\n",
       "\n",
       "    .dataframe thead th {\n",
       "        text-align: right;\n",
       "    }\n",
       "</style>\n",
       "<table border=\"1\" class=\"dataframe\">\n",
       "  <thead>\n",
       "    <tr style=\"text-align: right;\">\n",
       "      <th></th>\n",
       "      <th>Process</th>\n",
       "      <th>Arrival Time</th>\n",
       "      <th>Burst Time</th>\n",
       "      <th>Waiting Time</th>\n",
       "      <th>Turn Around Time</th>\n",
       "      <th>Completion Time</th>\n",
       "    </tr>\n",
       "  </thead>\n",
       "  <tbody>\n",
       "    <tr>\n",
       "      <th>0</th>\n",
       "      <td>P1</td>\n",
       "      <td>0</td>\n",
       "      <td>8</td>\n",
       "      <td>12.0</td>\n",
       "      <td>20.0</td>\n",
       "      <td>20.0</td>\n",
       "    </tr>\n",
       "    <tr>\n",
       "      <th>1</th>\n",
       "      <td>P2</td>\n",
       "      <td>1</td>\n",
       "      <td>4</td>\n",
       "      <td>5.0</td>\n",
       "      <td>9.0</td>\n",
       "      <td>10.0</td>\n",
       "    </tr>\n",
       "    <tr>\n",
       "      <th>2</th>\n",
       "      <td>P3</td>\n",
       "      <td>2</td>\n",
       "      <td>2</td>\n",
       "      <td>0.0</td>\n",
       "      <td>2.0</td>\n",
       "      <td>4.0</td>\n",
       "    </tr>\n",
       "    <tr>\n",
       "      <th>3</th>\n",
       "      <td>P4</td>\n",
       "      <td>3</td>\n",
       "      <td>1</td>\n",
       "      <td>1.0</td>\n",
       "      <td>2.0</td>\n",
       "      <td>5.0</td>\n",
       "    </tr>\n",
       "    <tr>\n",
       "      <th>4</th>\n",
       "      <td>P5</td>\n",
       "      <td>4</td>\n",
       "      <td>3</td>\n",
       "      <td>6.0</td>\n",
       "      <td>9.0</td>\n",
       "      <td>13.0</td>\n",
       "    </tr>\n",
       "    <tr>\n",
       "      <th>5</th>\n",
       "      <td>P6</td>\n",
       "      <td>5</td>\n",
       "      <td>2</td>\n",
       "      <td>0.0</td>\n",
       "      <td>2.0</td>\n",
       "      <td>7.0</td>\n",
       "    </tr>\n",
       "  </tbody>\n",
       "</table>\n",
       "</div>"
      ],
      "text/plain": [
       "  Process  Arrival Time  Burst Time  Waiting Time  Turn Around Time  \\\n",
       "0      P1             0           8          12.0              20.0   \n",
       "1      P2             1           4           5.0               9.0   \n",
       "2      P3             2           2           0.0               2.0   \n",
       "3      P4             3           1           1.0               2.0   \n",
       "4      P5             4           3           6.0               9.0   \n",
       "5      P6             5           2           0.0               2.0   \n",
       "\n",
       "   Completion Time  \n",
       "0             20.0  \n",
       "1             10.0  \n",
       "2              4.0  \n",
       "3              5.0  \n",
       "4             13.0  \n",
       "5              7.0  "
      ]
     },
     "execution_count": 17,
     "metadata": {},
     "output_type": "execute_result"
    }
   ],
   "source": [
    "actual_answer"
   ]
  },
  {
   "cell_type": "code",
   "execution_count": 13,
   "metadata": {},
   "outputs": [
    {
     "data": {
      "text/html": [
       "<div>\n",
       "<style scoped>\n",
       "    .dataframe tbody tr th:only-of-type {\n",
       "        vertical-align: middle;\n",
       "    }\n",
       "\n",
       "    .dataframe tbody tr th {\n",
       "        vertical-align: top;\n",
       "    }\n",
       "\n",
       "    .dataframe thead th {\n",
       "        text-align: right;\n",
       "    }\n",
       "</style>\n",
       "<table border=\"1\" class=\"dataframe\">\n",
       "  <thead>\n",
       "    <tr style=\"text-align: right;\">\n",
       "      <th></th>\n",
       "      <th>Process</th>\n",
       "      <th>Arrival Time</th>\n",
       "      <th>Burst Time</th>\n",
       "      <th>Waiting Time</th>\n",
       "      <th>Turn Around Time</th>\n",
       "      <th>Completion Time</th>\n",
       "    </tr>\n",
       "  </thead>\n",
       "  <tbody>\n",
       "    <tr>\n",
       "      <th>0</th>\n",
       "      <td>P1</td>\n",
       "      <td>0</td>\n",
       "      <td>8</td>\n",
       "      <td>12</td>\n",
       "      <td>20</td>\n",
       "      <td>20</td>\n",
       "    </tr>\n",
       "    <tr>\n",
       "      <th>1</th>\n",
       "      <td>P2</td>\n",
       "      <td>1</td>\n",
       "      <td>4</td>\n",
       "      <td>5</td>\n",
       "      <td>9</td>\n",
       "      <td>10</td>\n",
       "    </tr>\n",
       "    <tr>\n",
       "      <th>2</th>\n",
       "      <td>P3</td>\n",
       "      <td>2</td>\n",
       "      <td>2</td>\n",
       "      <td>0</td>\n",
       "      <td>2</td>\n",
       "      <td>4</td>\n",
       "    </tr>\n",
       "    <tr>\n",
       "      <th>3</th>\n",
       "      <td>P4</td>\n",
       "      <td>3</td>\n",
       "      <td>1</td>\n",
       "      <td>1</td>\n",
       "      <td>2</td>\n",
       "      <td>5</td>\n",
       "    </tr>\n",
       "    <tr>\n",
       "      <th>4</th>\n",
       "      <td>P5</td>\n",
       "      <td>4</td>\n",
       "      <td>3</td>\n",
       "      <td>6</td>\n",
       "      <td>9</td>\n",
       "      <td>13</td>\n",
       "    </tr>\n",
       "    <tr>\n",
       "      <th>5</th>\n",
       "      <td>P6</td>\n",
       "      <td>5</td>\n",
       "      <td>2</td>\n",
       "      <td>0</td>\n",
       "      <td>2</td>\n",
       "      <td>7</td>\n",
       "    </tr>\n",
       "  </tbody>\n",
       "</table>\n",
       "</div>"
      ],
      "text/plain": [
       "  Process  Arrival Time  Burst Time  Waiting Time  Turn Around Time  \\\n",
       "0      P1             0           8            12                20   \n",
       "1      P2             1           4             5                 9   \n",
       "2      P3             2           2             0                 2   \n",
       "3      P4             3           1             1                 2   \n",
       "4      P5             4           3             6                 9   \n",
       "5      P6             5           2             0                 2   \n",
       "\n",
       "   Completion Time  \n",
       "0               20  \n",
       "1               10  \n",
       "2                4  \n",
       "3                5  \n",
       "4               13  \n",
       "5                7  "
      ]
     },
     "execution_count": 13,
     "metadata": {},
     "output_type": "execute_result"
    }
   ],
   "source": [
    "expected_answer"
   ]
  },
  {
   "cell_type": "code",
   "execution_count": 14,
   "metadata": {},
   "outputs": [],
   "source": [
    "check_actual_answer = actual_answer.sort_values(by=['Arrival Time', 'Burst Time'], ignore_index=True)"
   ]
  },
  {
   "cell_type": "code",
   "execution_count": 15,
   "metadata": {},
   "outputs": [
    {
     "name": "stdout",
     "output_type": "stream",
     "text": [
      "Your answer is correct\n"
     ]
    },
    {
     "data": {
      "text/html": [
       "<div>\n",
       "<style scoped>\n",
       "    .dataframe tbody tr th:only-of-type {\n",
       "        vertical-align: middle;\n",
       "    }\n",
       "\n",
       "    .dataframe tbody tr th {\n",
       "        vertical-align: top;\n",
       "    }\n",
       "\n",
       "    .dataframe thead tr th {\n",
       "        text-align: left;\n",
       "    }\n",
       "</style>\n",
       "<table border=\"1\" class=\"dataframe\">\n",
       "  <thead>\n",
       "  </thead>\n",
       "  <tbody>\n",
       "  </tbody>\n",
       "</table>\n",
       "</div>"
      ],
      "text/plain": [
       "Empty DataFrame\n",
       "Columns: []\n",
       "Index: []"
      ]
     },
     "execution_count": 15,
     "metadata": {},
     "output_type": "execute_result"
    }
   ],
   "source": [
    "diff = check_actual_answer.compare(expected_answer)\n",
    "\n",
    "if diff.empty:\n",
    "    print(\"Your answer is correct\")\n",
    "else:\n",
    "    print(\"Your answer is incorrect\")\n",
    "    \n",
    "diff"
   ]
  },
  {
   "cell_type": "code",
   "execution_count": 16,
   "metadata": {},
   "outputs": [],
   "source": [
    "# # insert this line in srtf() function before uncommenting this cell and running it\n",
    "# # df = df.astype({'Completion Time': 'int64', 'Turn Around Time': 'int64', 'Waiting Time': 'int64'})\n",
    "\n",
    "# from pandas.testing import assert_frame_equal\n",
    "# assert_frame_equal(check_actual_answer, expected_answer)"
   ]
  }
 ],
 "metadata": {
  "kernelspec": {
   "display_name": "Python 3",
   "language": "python",
   "name": "python3"
  },
  "language_info": {
   "codemirror_mode": {
    "name": "ipython",
    "version": 3
   },
   "file_extension": ".py",
   "mimetype": "text/x-python",
   "name": "python",
   "nbconvert_exporter": "python",
   "pygments_lexer": "ipython3",
   "version": "3.11.5"
  },
  "orig_nbformat": 4
 },
 "nbformat": 4,
 "nbformat_minor": 2
}
